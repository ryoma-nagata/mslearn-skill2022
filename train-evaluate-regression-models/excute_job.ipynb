{
  "cells": [
    {
      "cell_type": "markdown",
      "source": [
        "## ワークスペース設定"
      ],
      "metadata": {
        "nteract": {
          "transient": {
            "deleting": false
          }
        }
      }
    },
    {
      "cell_type": "code",
      "source": [
        "import azure.ai.ml \r\n",
        "from azure.ai.ml import MLClient\r\n",
        "from azure.identity import DefaultAzureCredential, InteractiveBrowserCredential\r\n",
        "from azureml.core import Workspace\r\n",
        "\r\n",
        "ws = Workspace.from_config()\r\n",
        "print('Workspace name: ' + ws.name, \r\n",
        "      'Azure region: ' + ws.location, \r\n",
        "      'Subscription id: ' + ws.subscription_id, \r\n",
        "      'Resource group: ' + ws.resource_group, sep='\\n')\r\n",
        "\r\n",
        "\r\n",
        "try:\r\n",
        "    credential = DefaultAzureCredential()\r\n",
        "    # Check if given credential can get token successfully.\r\n",
        "    credential.get_token(\"https://management.azure.com/.default\")\r\n",
        "except Exception as ex:\r\n",
        "    # Fall back to InteractiveBrowserCredential in case DefaultAzureCredential not work\r\n",
        "    # This will open a browser page for\r\n",
        "    credential = InteractiveBrowserCredential()\r\n",
        "\r\n",
        "try:\r\n",
        "    ml_client = MLClient.from_config(credential=credential)\r\n",
        "except Exception as ex:\r\n",
        "    # NOTE: Update following workspace information if not correctly configure before\r\n",
        "    client_config = {\r\n",
        "        \"subscription_id\": ws.subscription_id,\r\n",
        "        \"resource_group\": ws.resource_group,\r\n",
        "        \"workspace_name\": ws.name,\r\n",
        "    }\r\n",
        "\r\n",
        "    if client_config[\"subscription_id\"].startswith(\"<\"):\r\n",
        "        print(\r\n",
        "            \"please update your <SUBSCRIPTION_ID> <RESOURCE_GROUP> <AML_WORKSPACE_NAME> in notebook cell\"\r\n",
        "        )\r\n",
        "        raise ex\r\n",
        "    else:  # write and reload from config file\r\n",
        "        import json, os\r\n",
        "\r\n",
        "        config_path = \"../.azureml/config.json\"\r\n",
        "        os.makedirs(os.path.dirname(config_path), exist_ok=True)\r\n",
        "        with open(config_path, \"w\") as fo:\r\n",
        "            fo.write(json.dumps(client_config))\r\n",
        "        ml_client = MLClient.from_config(credential=credential, path=config_path)\r\n",
        "print(ml_client)"
      ],
      "outputs": [
        {
          "output_type": "stream",
          "name": "stderr",
          "text": "Found the config file in: /mnt/batch/tasks/shared/LS_root/mounts/clusters/skilling-ml2/code/Users/localdev/github/mslearn-skill2022/.azureml/config.json\n"
        }
      ],
      "execution_count": 26,
      "metadata": {
        "jupyter": {
          "source_hidden": false,
          "outputs_hidden": false
        },
        "nteract": {
          "transient": {
            "deleting": false
          }
        },
        "gather": {
          "logged": 1656071468917
        }
      }
    },
    {
      "cell_type": "markdown",
      "source": [
        "## 計算環境の作成"
      ],
      "metadata": {
        "nteract": {
          "transient": {
            "deleting": false
          }
        }
      }
    },
    {
      "cell_type": "code",
      "source": [
        "from azure.ai.ml.entities import AmlCompute\r\n",
        "\r\n",
        "cpu_compute_target = \"cpu-cluster\"\r\n",
        "\r\n",
        "try:\r\n",
        "    # let's see if the compute target already exists\r\n",
        "    cpu_cluster = ml_client.compute.get(cpu_compute_target)\r\n",
        "    print(\r\n",
        "        f\"You already have a cluster named {cpu_compute_target}, we'll reuse it as is.\"\r\n",
        "    )\r\n",
        "\r\n",
        "except Exception:\r\n",
        "    print(\"Creating a new cpu compute target...\")\r\n",
        "\r\n",
        "    # Let's create the Azure ML compute object with the intended parameters\r\n",
        "    cpu_cluster = AmlCompute(\r\n",
        "        # Name assigned to the compute cluster\r\n",
        "        name=cpu_compute_target,\r\n",
        "        # Azure ML Compute is the on-demand VM service\r\n",
        "        type=\"amlcompute\",\r\n",
        "        # VM Family\r\n",
        "        size=\"STANDARD_DS11_V2\",\r\n",
        "        # Minimum running nodes when there is no job running\r\n",
        "        min_instances=0,\r\n",
        "        # Nodes in cluster\r\n",
        "        max_instances=2,\r\n",
        "        # How many seconds will the node running after the job termination\r\n",
        "        idle_time_before_scale_down=180,\r\n",
        "        # Dedicated or LowPriority. The latter is cheaper but there is a chance of job termination\r\n",
        "        tier=\"Low_priority\",\r\n",
        "    )\r\n",
        "\r\n",
        "    # Now, we pass the object to MLClient's create_or_update method\r\n",
        "    cpu_cluster = ml_client.begin_create_or_update(cpu_cluster)\r\n",
        "\r\n",
        "print(\r\n",
        "    f\"AMLCompute with name {cpu_cluster.name} is created, the compute size is {cpu_cluster.size}\"\r\n",
        ")"
      ],
      "outputs": [
        {
          "output_type": "stream",
          "name": "stdout",
          "text": "You already have a cluster named cpu-cluster, we'll reuse it as is.\nAMLCompute with name cpu-cluster is created, the compute size is STANDARD_DS11_V2\n"
        }
      ],
      "execution_count": 3,
      "metadata": {
        "jupyter": {
          "source_hidden": false,
          "outputs_hidden": false
        },
        "nteract": {
          "transient": {
            "deleting": false
          }
        },
        "gather": {
          "logged": 1656054723915
        }
      }
    },
    {
      "cell_type": "markdown",
      "source": [
        "## 実験ジョブの実行"
      ],
      "metadata": {
        "nteract": {
          "transient": {
            "deleting": false
          }
        }
      }
    },
    {
      "cell_type": "markdown",
      "source": [
        "### 入力データの呼び出し"
      ],
      "metadata": {
        "nteract": {
          "transient": {
            "deleting": false
          }
        }
      }
    },
    {
      "cell_type": "code",
      "source": [
        "\r\n",
        "registered_data_asset = ml_client.data._get_latest_version(name=\"sdkv2-daily-bike-share\")\r\n"
      ],
      "outputs": [],
      "execution_count": 4,
      "metadata": {
        "jupyter": {
          "source_hidden": false,
          "outputs_hidden": false
        },
        "nteract": {
          "transient": {
            "deleting": false
          }
        },
        "gather": {
          "logged": 1656054726130
        }
      }
    },
    {
      "cell_type": "markdown",
      "source": [
        "### 実行"
      ],
      "metadata": {
        "nteract": {
          "transient": {
            "deleting": false
          }
        }
      }
    },
    {
      "cell_type": "code",
      "source": [
        "\r\n",
        "import time \r\n",
        "\r\n",
        "from azure.ai.ml import command, Input, Output\r\n",
        "from azure.ai.ml.entities import Data\r\n",
        "from azure.ai.ml.constants import AssetTypes\r\n",
        "\r\n",
        "\r\n",
        "experiment_name = \"skill-train-evaluate-regression-models\" \r\n",
        "run_name = f'job_sklearn_pipeline_GridSearchCVGradientBoostingRegressor_run_{int(time.time())}' # 実行ごとにかぶらないようにしつつ好きな名前を指定\r\n",
        "\r\n",
        "my_job_inputs = {\r\n",
        "    \"input_data\": Input(type=AssetTypes.URI_FILE, path=registered_data_asset.id)\r\n",
        "}\r\n",
        "\r\n",
        "job = command(\r\n",
        "    code=\"./src\",\r\n",
        "    command=\"python main.py --input_data ${{inputs.input_data}}\",\r\n",
        "    inputs=my_job_inputs,\r\n",
        "    environment=\"AzureML-sklearn-0.24-ubuntu18.04-py37-cpu:9\",\r\n",
        "    compute=\"cpu-cluster\",\r\n",
        "    experiment_name=experiment_name,\r\n",
        "    display_name=run_name,\r\n",
        ")\r\n",
        "\r\n",
        "# submit the command\r\n",
        "returned_job = ml_client.create_or_update(job)\r\n",
        "# get a URL for the status of the job\r\n",
        "returned_job.services[\"Studio\"].endpoint"
      ],
      "outputs": [
        {
          "output_type": "stream",
          "name": "stderr",
          "text": "\u001b[32mUploading src (0.0 MBs): 100%|██████████| 4882/4882 [00:00<00:00, 47489.22it/s]\n\u001b[39m\n\n"
        },
        {
          "output_type": "execute_result",
          "execution_count": 27,
          "data": {
            "text/plain": "'https://ml.azure.com/runs/quirky_van_c22b39y8md?wsid=/subscriptions/aa7533c4-42d3-4f74-9b7e-9bec680a7c22/resourcegroups/vse-rg-sand/workspaces/skilling-ml-sand&tid=8942ec59-80b8-4a4c-b002-32b6193ca367'"
          },
          "metadata": {}
        }
      ],
      "execution_count": 27,
      "metadata": {
        "jupyter": {
          "source_hidden": false,
          "outputs_hidden": false
        },
        "nteract": {
          "transient": {
            "deleting": false
          }
        },
        "gather": {
          "logged": 1656071476071
        }
      }
    },
    {
      "cell_type": "code",
      "source": [],
      "outputs": [],
      "execution_count": null,
      "metadata": {
        "jupyter": {
          "source_hidden": false,
          "outputs_hidden": false
        },
        "nteract": {
          "transient": {
            "deleting": false
          }
        }
      }
    }
  ],
  "metadata": {
    "kernelspec": {
      "name": "python38-azureml",
      "language": "python",
      "display_name": "Python 3.8 - AzureML"
    },
    "language_info": {
      "name": "python",
      "version": "3.8.5",
      "mimetype": "text/x-python",
      "codemirror_mode": {
        "name": "ipython",
        "version": 3
      },
      "pygments_lexer": "ipython3",
      "nbconvert_exporter": "python",
      "file_extension": ".py"
    },
    "kernel_info": {
      "name": "python38-azureml"
    },
    "microsoft": {
      "host": {
        "AzureML": {
          "notebookHasBeenCompleted": true
        }
      }
    },
    "nteract": {
      "version": "nteract-front-end@1.0.0"
    }
  },
  "nbformat": 4,
  "nbformat_minor": 2
}