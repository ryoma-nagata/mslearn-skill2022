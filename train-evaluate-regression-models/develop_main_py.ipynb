{
  "cells": [
    {
      "cell_type": "markdown",
      "source": [
        "## リファクタリング"
      ],
      "metadata": {
        "nteract": {
          "transient": {
            "deleting": false
          }
        }
      }
    },
    {
      "cell_type": "code",
      "source": [
        "import azure.ai.ml \r\n",
        "from azure.ai.ml import MLClient\r\n",
        "from azure.identity import DefaultAzureCredential, InteractiveBrowserCredential\r\n",
        "from azureml.core import Workspace\r\n",
        "\r\n",
        "ws = Workspace.from_config()\r\n",
        "print('Workspace name: ' + ws.name, \r\n",
        "      'Azure region: ' + ws.location, \r\n",
        "      'Subscription id: ' + ws.subscription_id, \r\n",
        "      'Resource group: ' + ws.resource_group, sep='\\n')\r\n",
        "\r\n",
        "\r\n",
        "try:\r\n",
        "    credential = DefaultAzureCredential()\r\n",
        "    # Check if given credential can get token successfully.\r\n",
        "    credential.get_token(\"https://management.azure.com/.default\")\r\n",
        "except Exception as ex:\r\n",
        "    # Fall back to InteractiveBrowserCredential in case DefaultAzureCredential not work\r\n",
        "    # This will open a browser page for\r\n",
        "    credential = InteractiveBrowserCredential()\r\n",
        "\r\n",
        "try:\r\n",
        "    ml_client = MLClient.from_config(credential=credential)\r\n",
        "except Exception as ex:\r\n",
        "    # NOTE: Update following workspace information if not correctly configure before\r\n",
        "    client_config = {\r\n",
        "        \"subscription_id\": ws.subscription_id,\r\n",
        "        \"resource_group\": ws.resource_group,\r\n",
        "        \"workspace_name\": ws.name,\r\n",
        "    }\r\n",
        "\r\n",
        "    if client_config[\"subscription_id\"].startswith(\"<\"):\r\n",
        "        print(\r\n",
        "            \"please update your <SUBSCRIPTION_ID> <RESOURCE_GROUP> <AML_WORKSPACE_NAME> in notebook cell\"\r\n",
        "        )\r\n",
        "        raise ex\r\n",
        "    else:  # write and reload from config file\r\n",
        "        import json, os\r\n",
        "\r\n",
        "        config_path = \"../.azureml/config.json\"\r\n",
        "        os.makedirs(os.path.dirname(config_path), exist_ok=True)\r\n",
        "        with open(config_path, \"w\") as fo:\r\n",
        "            fo.write(json.dumps(client_config))\r\n",
        "        ml_client = MLClient.from_config(credential=credential, path=config_path)\r\n",
        "print(ml_client)"
      ],
      "outputs": [
        {
          "output_type": "stream",
          "name": "stdout",
          "text": "Workspace name: skilling-ml-sand\nAzure region: japaneast\nSubscription id: aa7533c4-42d3-4f74-9b7e-9bec680a7c22\nResource group: vse-rg-sand\nMLClient(credential=<azure.identity._credentials.default.DefaultAzureCredential object at 0x7f9268885b80>,\n         subscription_id=aa7533c4-42d3-4f74-9b7e-9bec680a7c22,\n         resource_group_name=vse-rg-sand,\n         workspace_name=skilling-ml-sand)\n"
        }
      ],
      "execution_count": 3,
      "metadata": {
        "jupyter": {
          "source_hidden": false,
          "outputs_hidden": false
        },
        "nteract": {
          "transient": {
            "deleting": false
          }
        },
        "gather": {
          "logged": 1656054261252
        }
      }
    },
    {
      "cell_type": "code",
      "source": [
        "import mlflow\r\n",
        "\r\n",
        "tracking_uri = ml_client.workspaces.get(name=ws.name).mlflow_tracking_uri\r\n",
        "mlflow.set_tracking_uri(tracking_uri)\r\n",
        "experiment_name = \"skill-train-evaluate-regression-models\" \r\n",
        "mlflow.set_experiment(experiment_name)"
      ],
      "outputs": [
        {
          "output_type": "execute_result",
          "execution_count": 4,
          "data": {
            "text/plain": "<Experiment: artifact_location='', experiment_id='65681a56-c343-4d34-8f3f-f985deeb62f8', lifecycle_stage='active', name='skill-train-evaluate-regression-models', tags={}>"
          },
          "metadata": {}
        }
      ],
      "execution_count": 4,
      "metadata": {
        "jupyter": {
          "source_hidden": false,
          "outputs_hidden": false
        },
        "nteract": {
          "transient": {
            "deleting": false
          }
        },
        "gather": {
          "logged": 1656054282109
        }
      }
    },
    {
      "cell_type": "markdown",
      "source": [
        "### Step 1 とりあえずまとめる"
      ],
      "metadata": {
        "nteract": {
          "transient": {
            "deleting": false
          }
        }
      }
    },
    {
      "cell_type": "code",
      "source": [
        "\r\n",
        "\r\n",
        "import pandas as pd\r\n",
        "file_path = './data/daily-bike-share.csv'\r\n",
        "bike_data = pd.read_csv(file_path)\r\n",
        "bike_data.head()\r\n",
        "\r\n",
        "# Dataprep\r\n",
        "# enable auto logging\r\n",
        "mlflow.autolog()\r\n",
        "# Separate features and labels\r\n",
        "X, y = bike_data[['season','mnth', 'holiday','weekday','workingday','weathersit','temp', 'atemp', 'hum', 'windspeed']].values, bike_data['rentals'].values\r\n",
        "print('Features:',X[:10], '\\nLabels:', y[:10], sep='\\n')\r\n",
        "\r\n",
        "\r\n",
        "from sklearn.model_selection import train_test_split\r\n",
        "\r\n",
        "# Split data 70%-30% into training set and test set\r\n",
        "X_train, X_test, y_train, y_test = train_test_split(X, y, test_size=0.30, random_state=0)\r\n",
        "\r\n",
        "print ('Training Set: %d rows\\nTest Set: %d rows' % (X_train.shape[0], X_test.shape[0]))\r\n",
        "\r\n",
        "# Train\r\n",
        "\r\n",
        "# Train the model\r\n",
        "from sklearn.linear_model import LinearRegression\r\n",
        "\r\n",
        "# Fit a linear regression model on the training set\r\n",
        "model = LinearRegression().fit(X_train, y_train)\r\n",
        "print (model)\r\n",
        "\r\n",
        "# Evaluate\r\n",
        "\r\n",
        "import numpy as np\r\n",
        "\r\n",
        "predictions = model.predict(X_test)\r\n",
        "np.set_printoptions(suppress=True)\r\n",
        "print('Predicted labels: ', np.round(predictions)[:10])\r\n",
        "print('Actual labels   : ' ,y_test[:10])\r\n",
        "\r\n",
        "\r\n",
        "import matplotlib.pyplot as plt\r\n",
        "fig = plt.figure(figsize=(10,10))\r\n",
        "plt.scatter(y_test, predictions)\r\n",
        "plt.xlabel('Actual Labels')\r\n",
        "plt.ylabel('Predicted Labels')\r\n",
        "plt.title('Daily Bike Share Predictions')\r\n",
        "# overlay the regression line\r\n",
        "z = np.polyfit(y_test, predictions, 1)\r\n",
        "p = np.poly1d(z)\r\n",
        "plt.plot(y_test,p(y_test), color='magenta')\r\n",
        "\r\n",
        "mlflow.log_figure(fig,\"evaluate.png\")\r\n",
        "\r\n",
        "from sklearn.metrics import mean_squared_error, r2_score\r\n",
        "\r\n",
        "mse = mean_squared_error(y_test, predictions)\r\n",
        "print(\"MSE:\", mse)\r\n",
        "\r\n",
        "rmse = np.sqrt(mse)\r\n",
        "print(\"RMSE:\", rmse)\r\n",
        "\r\n",
        "r2 = r2_score(y_test, predictions)\r\n",
        "print(\"R2:\", r2)\r\n",
        "\r\n",
        "metric = {\r\n",
        "    \"MSE\": mse,\r\n",
        "    \"RMSE\":rmse,\r\n",
        "    \"R2\":r2\r\n",
        "}\r\n",
        "mlflow.log_metrics(metric)"
      ],
      "outputs": [],
      "execution_count": null,
      "metadata": {
        "gather": {
          "logged": 1655982899981
        }
      }
    },
    {
      "cell_type": "markdown",
      "source": [
        "### Step2 機械的に関数にする"
      ],
      "metadata": {
        "nteract": {
          "transient": {
            "deleting": false
          }
        }
      }
    },
    {
      "cell_type": "code",
      "source": [
        "\r\n",
        "\r\n",
        "import pandas as pd\r\n",
        "file_path = './data/daily-bike-share.csv'\r\n",
        "bike_data = pd.read_csv(file_path)\r\n",
        "bike_data.head()\r\n",
        "\r\n",
        "\r\n",
        "# Dataprep\r\n",
        "\r\n",
        "def data_prep():\r\n",
        "    # enable auto logging\r\n",
        "    mlflow.autolog()\r\n",
        "    # Separate features and labels\r\n",
        "    X, y = bike_data[['season','mnth', 'holiday','weekday','workingday','weathersit','temp', 'atemp', 'hum', 'windspeed']].values, bike_data['rentals'].values\r\n",
        "    print('Features:',X[:10], '\\nLabels:', y[:10], sep='\\n')\r\n",
        "\r\n",
        "\r\n",
        "    from sklearn.model_selection import train_test_split\r\n",
        "\r\n",
        "    # Split data 70%-30% into training set and test set\r\n",
        "    X_train, X_test, y_train, y_test = train_test_split(X, y, test_size=0.30, random_state=0)\r\n",
        "\r\n",
        "    print ('Training Set: %d rows\\nTest Set: %d rows' % (X_train.shape[0], X_test.shape[0]))\r\n",
        "\r\n",
        "# Train\r\n",
        "def train_mode():\r\n",
        "\r\n",
        "\r\n",
        "\r\n",
        "    # Train the model\r\n",
        "    from sklearn.linear_model import LinearRegression\r\n",
        "\r\n",
        "    # Fit a linear regression model on the training set\r\n",
        "    model = LinearRegression().fit(X_train, y_train)\r\n",
        "    print (model)\r\n",
        "\r\n",
        "# Evaluate\r\n",
        "def evaluate_model():\r\n",
        "\r\n",
        "    import numpy as np\r\n",
        "\r\n",
        "    predictions = model.predict(X_test)\r\n",
        "    np.set_printoptions(suppress=True)\r\n",
        "    print('Predicted labels: ', np.round(predictions)[:10])\r\n",
        "    print('Actual labels   : ' ,y_test[:10])\r\n",
        "\r\n",
        "\r\n",
        "    import matplotlib.pyplot as plt\r\n",
        "    fig = plt.figure(figsize=(10,10))\r\n",
        "    plt.scatter(y_test, predictions)\r\n",
        "    plt.xlabel('Actual Labels')\r\n",
        "    plt.ylabel('Predicted Labels')\r\n",
        "    plt.title('Daily Bike Share Predictions')\r\n",
        "    # overlay the regression line\r\n",
        "    z = np.polyfit(y_test, predictions, 1)\r\n",
        "    p = np.poly1d(z)\r\n",
        "    plt.plot(y_test,p(y_test), color='magenta')\r\n",
        "\r\n",
        "    mlflow.log_figure(fig,\"evaluate.png\")\r\n",
        "\r\n",
        "    from sklearn.metrics import mean_squared_error, r2_score\r\n",
        "\r\n",
        "    mse = mean_squared_error(y_test, predictions)\r\n",
        "    print(\"MSE:\", mse)\r\n",
        "\r\n",
        "    rmse = np.sqrt(mse)\r\n",
        "    print(\"RMSE:\", rmse)\r\n",
        "\r\n",
        "    r2 = r2_score(y_test, predictions)\r\n",
        "    print(\"R2:\", r2)\r\n",
        "\r\n",
        "    metric = {\r\n",
        "        \"MSE\": mse,\r\n",
        "        \"RMSE\":rmse,\r\n",
        "        \"R2\":r2\r\n",
        "    }\r\n",
        "    mlflow.log_metrics(metric)"
      ],
      "outputs": [],
      "execution_count": null,
      "metadata": {
        "jupyter": {
          "source_hidden": false,
          "outputs_hidden": false
        },
        "nteract": {
          "transient": {
            "deleting": false
          }
        }
      }
    },
    {
      "cell_type": "markdown",
      "source": [
        "### Step 3 パラメータを整理する\r\n",
        "- 関数内で定義されていないものを引数にする"
      ],
      "metadata": {
        "nteract": {
          "transient": {
            "deleting": false
          }
        }
      }
    },
    {
      "cell_type": "code",
      "source": [
        "\r\n",
        "\r\n",
        "import pandas as pd\r\n",
        "file_path = './data/daily-bike-share.csv'\r\n",
        "bike_data = pd.read_csv(file_path)\r\n",
        "bike_data.head()\r\n",
        "\r\n",
        "\r\n",
        "# Dataprep\r\n",
        "def data_prep(bike_data):\r\n",
        "    # enable auto logging\r\n",
        "    mlflow.autolog()\r\n",
        "    # Separate features and labels\r\n",
        "    X, y = bike_data[['season','mnth', 'holiday','weekday','workingday','weathersit','temp', 'atemp', 'hum', 'windspeed']].values, bike_data['rentals'].values\r\n",
        "    print('Features:',X[:10], '\\nLabels:', y[:10], sep='\\n')\r\n",
        "\r\n",
        "\r\n",
        "    from sklearn.model_selection import train_test_split\r\n",
        "\r\n",
        "    # Split data 70%-30% into training set and test set\r\n",
        "    X_train, X_test, y_train, y_test = train_test_split(X, y, test_size=0.30, random_state=0)\r\n",
        "\r\n",
        "    print ('Training Set: %d rows\\nTest Set: %d rows' % (X_train.shape[0], X_test.shape[0]))\r\n",
        "\r\n",
        "    \r\n",
        "# Train\r\n",
        "def train_mode(X_train, y_train):\r\n",
        "\r\n",
        "    # Train the model\r\n",
        "    from sklearn.linear_model import LinearRegression\r\n",
        "\r\n",
        "    # Fit a linear regression model on the training set\r\n",
        "    model = LinearRegression().fit(X_train, y_train)\r\n",
        "    print (model)\r\n",
        "\r\n",
        "# Evaluate\r\n",
        "def evaluate_model(model,X_test,y_test):\r\n",
        "\r\n",
        "    import numpy as np\r\n",
        "\r\n",
        "    predictions = model.predict(X_test)\r\n",
        "    np.set_printoptions(suppress=True)\r\n",
        "    print('Predicted labels: ', np.round(predictions)[:10])\r\n",
        "    print('Actual labels   : ' ,y_test[:10])\r\n",
        "\r\n",
        "\r\n",
        "    import matplotlib.pyplot as plt\r\n",
        "    fig = plt.figure(figsize=(10,10))\r\n",
        "    plt.scatter(y_test, predictions)\r\n",
        "    plt.xlabel('Actual Labels')\r\n",
        "    plt.ylabel('Predicted Labels')\r\n",
        "    plt.title('Daily Bike Share Predictions')\r\n",
        "    # overlay the regression line\r\n",
        "    z = np.polyfit(y_test, predictions, 1)\r\n",
        "    p = np.poly1d(z)\r\n",
        "    plt.plot(y_test,p(y_test), color='magenta')\r\n",
        "\r\n",
        "    mlflow.log_figure(fig,\"evaluate.png\")\r\n",
        "\r\n",
        "    from sklearn.metrics import mean_squared_error, r2_score\r\n",
        "\r\n",
        "    mse = mean_squared_error(y_test, predictions)\r\n",
        "    print(\"MSE:\", mse)\r\n",
        "\r\n",
        "    rmse = np.sqrt(mse)\r\n",
        "    print(\"RMSE:\", rmse)\r\n",
        "\r\n",
        "    r2 = r2_score(y_test, predictions)\r\n",
        "    print(\"R2:\", r2)\r\n",
        "\r\n",
        "    metric = {\r\n",
        "        \"MSE\": mse,\r\n",
        "        \"RMSE\":rmse,\r\n",
        "        \"R2\":r2\r\n",
        "    }\r\n",
        "    mlflow.log_metrics(metric)"
      ],
      "outputs": [],
      "execution_count": null,
      "metadata": {
        "jupyter": {
          "source_hidden": false,
          "outputs_hidden": false
        },
        "nteract": {
          "transient": {
            "deleting": false
          }
        }
      }
    },
    {
      "cell_type": "markdown",
      "source": [
        "### Step 4  mainを作成し、整える。\r\n",
        "\r\n",
        "- mainと実行を組む\r\n",
        "- returnを実装する.\r\n",
        "- mlflowをまとめて、start_run()を組みこむ\r\n",
        "- import など整理する　※mlflow忘れないように\r\n",
        "- ここでデバッグ可能になる"
      ],
      "metadata": {
        "nteract": {
          "transient": {
            "deleting": false
          }
        }
      }
    },
    {
      "cell_type": "code",
      "source": [
        "import numpy as np\r\n",
        "import pandas as pd\r\n",
        "import matplotlib.pyplot as plt\r\n",
        "import mlflow\r\n",
        "from sklearn.model_selection import train_test_split\r\n",
        "from sklearn.linear_model import LinearRegression\r\n",
        "from sklearn.metrics import mean_squared_error, r2_score\r\n",
        "\r\n",
        "def main():\r\n",
        "\r\n",
        "    # enable auto logging\r\n",
        "    mlflow.autolog()\r\n",
        "    \r\n",
        "    file_path = './data/daily-bike-share.csv'\r\n",
        "    bike_data = pd.read_csv(file_path)\r\n",
        "    bike_data.head()\r\n",
        "\r\n",
        "    X_train, X_test, y_train, y_test = data_prep(bike_data)\r\n",
        "\r\n",
        "    model = train_mode(X_train, y_train)\r\n",
        "\r\n",
        "    evaluate = evaluate_model(model,X_test,y_test)\r\n",
        "\r\n",
        "\r\n",
        "# Dataprep\r\n",
        "def data_prep(bike_data):\r\n",
        "\r\n",
        "    # Separate features and labels\r\n",
        "    X, y = bike_data[['season','mnth', 'holiday','weekday','workingday','weathersit','temp', 'atemp', 'hum', 'windspeed']].values, bike_data['rentals'].values\r\n",
        "    print('Features:',X[:10], '\\nLabels:', y[:10], sep='\\n')\r\n",
        "\r\n",
        "    # Split data 70%-30% into training set and test set\r\n",
        "    X_train, X_test, y_train, y_test = train_test_split(X, y, test_size=0.30, random_state=0)\r\n",
        "    print ('Training Set: %d rows\\nTest Set: %d rows' % (X_train.shape[0], X_test.shape[0]))\r\n",
        "\r\n",
        "    return X_train, X_test, y_train, y_test\r\n",
        "    \r\n",
        "# Train\r\n",
        "def train_mode(X_train, y_train):\r\n",
        "\r\n",
        "    # Train the model\r\n",
        "    # Fit a linear regression model on the training set\r\n",
        "    model = LinearRegression().fit(X_train, y_train)\r\n",
        "    print (model)\r\n",
        "\r\n",
        "    return model\r\n",
        "\r\n",
        "# Evaluate\r\n",
        "def evaluate_model(model,X_test,y_test):\r\n",
        "\r\n",
        "    predictions = model.predict(X_test)\r\n",
        "    np.set_printoptions(suppress=True)\r\n",
        "    print('Predicted labels: ', np.round(predictions)[:10])\r\n",
        "    print('Actual labels   : ' ,y_test[:10])\r\n",
        "    \r\n",
        "    fig = plt.figure(figsize=(10,10))\r\n",
        "    plt.scatter(y_test, predictions)\r\n",
        "    plt.xlabel('Actual Labels')\r\n",
        "    plt.ylabel('Predicted Labels')\r\n",
        "    plt.title('Daily Bike Share Predictions')\r\n",
        "    # overlay the regression line\r\n",
        "    z = np.polyfit(y_test, predictions, 1)\r\n",
        "    p = np.poly1d(z)\r\n",
        "    plt.plot(y_test,p(y_test), color='magenta')\r\n",
        "\r\n",
        "    mlflow.log_figure(fig,\"evaluate.png\")\r\n",
        "\r\n",
        "    mse = mean_squared_error(y_test, predictions)\r\n",
        "    print(\"MSE:\", mse)\r\n",
        "\r\n",
        "    rmse = np.sqrt(mse)\r\n",
        "    print(\"RMSE:\", rmse)\r\n",
        "\r\n",
        "    r2 = r2_score(y_test, predictions)\r\n",
        "    print(\"R2:\", r2)\r\n",
        "\r\n",
        "    metric = {\r\n",
        "        \"MSE\": mse,\r\n",
        "        \"RMSE\":rmse,\r\n",
        "        \"R2\":r2\r\n",
        "    }\r\n",
        "    mlflow.log_metrics(metric)\r\n",
        "\r\n",
        "    return metric\r\n",
        "    \r\n",
        "if __name__ == \"__main__\":\r\n",
        "    # run main function\r\n",
        "    main()"
      ],
      "outputs": [
        {
          "output_type": "stream",
          "name": "stderr",
          "text": "2022/06/24 07:54:41 INFO mlflow.tracking.fluent: Autologging successfully enabled for sklearn.\n2022/06/24 07:54:41 INFO mlflow.tracking.fluent: Autologging successfully enabled for pyspark.\n2022/06/24 07:54:41 INFO mlflow.pyspark.ml: No SparkSession detected. Autologging will log pyspark.ml models contained in the default allowlist. To specify a custom allowlist, initialize a SparkSession prior to calling mlflow.pyspark.ml.autolog() and specify the path to your allowlist file via the spark.mlflow.pysparkml.autolog.logModelAllowlistFile conf.\n2022/06/24 07:54:41 INFO mlflow.tracking.fluent: Autologging successfully enabled for pyspark.ml.\n2022/06/24 07:54:41 WARNING mlflow.utils: Truncated the value of the key `estimator`. Truncated value: `GradientBoostingRegressor(alpha=0.9, ccp_alpha=0.0, criterion='friedman_mse',\n                          init=None, learning_rate=0.1, loss='ls', max_depth=3,\n                          max_features=None, max_leaf_nodes=None,\n                       ...`\n2022/06/24 07:54:47 WARNING mlflow.utils.autologging_utils: Encountered unexpected error during sklearn autologging: ('cannot represent an object', OrderedDict([('name', 'mlflow-env'), ('channels', ['conda-forge']), ('dependencies', ['python=3.8.5', 'pip<=20.1.1', {'pip': ['mlflow', 'cloudpickle==1.6.0', 'lz4==4.0.1', 'psutil==5.9.0', 'scikit-learn==0.22.1', 'uuid==1.30']}])]))\n"
        },
        {
          "output_type": "stream",
          "name": "stdout",
          "text": "Features:\n[[1.        1.        0.        6.        0.        2.        0.344167\n  0.363625  0.805833  0.160446 ]\n [1.        1.        0.        0.        0.        2.        0.363478\n  0.353739  0.696087  0.248539 ]\n [1.        1.        0.        1.        1.        1.        0.196364\n  0.189405  0.437273  0.248309 ]\n [1.        1.        0.        2.        1.        1.        0.2\n  0.212122  0.590435  0.160296 ]\n [1.        1.        0.        3.        1.        1.        0.226957\n  0.22927   0.436957  0.1869   ]\n [1.        1.        0.        4.        1.        1.        0.204348\n  0.233209  0.518261  0.0895652]\n [1.        1.        0.        5.        1.        2.        0.196522\n  0.208839  0.498696  0.168726 ]\n [1.        1.        0.        6.        0.        2.        0.165\n  0.162254  0.535833  0.266804 ]\n [1.        1.        0.        0.        0.        1.        0.138333\n  0.116175  0.434167  0.36195  ]\n [1.        1.        0.        1.        1.        1.        0.150833\n  0.150888  0.482917  0.223267 ]]\n\nLabels:\n[331 131 120 108  82  88 148  68  54  41]\nTraining Set: 511 rows\nTest Set: 220 rows\nBest parameter combination: {'learning_rate': 0.1, 'n_estimators': 50} \n\nGradientBoostingRegressor(alpha=0.9, ccp_alpha=0.0, criterion='friedman_mse',\n                          init=None, learning_rate=0.1, loss='ls', max_depth=3,\n                          max_features=None, max_leaf_nodes=None,\n                          min_impurity_decrease=0.0, min_impurity_split=None,\n                          min_samples_leaf=1, min_samples_split=2,\n                          min_weight_fraction_leaf=0.0, n_estimators=50,\n                          n_iter_no_change=None, presort='deprecated',\n                          random_state=None, subsample=1.0, tol=0.0001,\n                          validation_fraction=0.1, verbose=0, warm_start=False) \n\nPredicted labels:  [2135.  893.  260.  138.  241.  189.  508.  491. 1559.  162.]\nActual labels   :  [2418  754  222   47  244  145  240  555 3252   38]\nMSE: 108538.93747108303\nRMSE: 329.45248135517664\nR2: 0.787216225387029\nEmpty DataFrame\nColumns: [run_id]\nIndex: []\n"
        },
        {
          "output_type": "display_data",
          "data": {
            "text/plain": "<Figure size 720x720 with 1 Axes>",
            "image/png": "[encoded data removed]"
          },
          "metadata": {
            "needs_background": "light"
          }
        }
      ],
      "execution_count": 11,
      "metadata": {
        "jupyter": {
          "source_hidden": false,
          "outputs_hidden": false
        },
        "nteract": {
          "transient": {
            "deleting": false
          }
        },
        "gather": {
          "logged": 1656057289058
        }
      }
    },
    {
      "cell_type": "markdown",
      "source": [],
      "metadata": {
        "nteract": {
          "transient": {
            "deleting": false
          }
        }
      }
    },
    {
      "cell_type": "markdown",
      "source": [
        "Step 5 コードにargを作成し、main.pyを作成する"
      ],
      "metadata": {
        "nteract": {
          "transient": {
            "deleting": false
          }
        }
      }
    },
    {
      "cell_type": "code",
      "source": [
        "import os\r\n",
        "\r\n",
        "src_dir = \"./src\"\r\n",
        "os.makedirs(src_dir, exist_ok=True)"
      ],
      "outputs": [],
      "execution_count": 4,
      "metadata": {
        "jupyter": {
          "source_hidden": false,
          "outputs_hidden": false
        },
        "nteract": {
          "transient": {
            "deleting": false
          }
        },
        "gather": {
          "logged": 1655984244485
        }
      }
    },
    {
      "cell_type": "code",
      "source": [
        "%%writefile ./src/main.py\r\n",
        "\r\n",
        "import numpy as np\r\n",
        "import pandas as pd\r\n",
        "import matplotlib.pyplot as plt\r\n",
        "import mlflow\r\n",
        "import argparse # 追加\r\n",
        "\r\n",
        "from sklearn.model_selection import train_test_split\r\n",
        "from sklearn.linear_model import LinearRegression\r\n",
        "from sklearn.metrics import mean_squared_error, r2_score\r\n",
        "\r\n",
        "def main(args):\r\n",
        "    \r\n",
        "    # enable auto logging\r\n",
        "    mlflow.autolog()\r\n",
        "\r\n",
        "    # file_path = './data/daily-bike-share.csv'\r\n",
        "    bike_data = pd.read_csv(args.input_data)\r\n",
        "    bike_data.head()\r\n",
        "\r\n",
        "    X_train, X_test, y_train, y_test = data_prep(bike_data)\r\n",
        "\r\n",
        "    model = train_mode(X_train, y_train)\r\n",
        "\r\n",
        "    evaluate = evaluate_model(model,X_test,y_test)\r\n",
        "\r\n",
        "\r\n",
        "# Dataprep\r\n",
        "def data_prep(bike_data):\r\n",
        "\r\n",
        "    # Separate features and labels\r\n",
        "    X, y = bike_data[['season','mnth', 'holiday','weekday','workingday','weathersit','temp', 'atemp', 'hum', 'windspeed']].values, bike_data['rentals'].values\r\n",
        "    print('Features:',X[:10], '\\nLabels:', y[:10], sep='\\n')\r\n",
        "\r\n",
        "    # Split data 70%-30% into training set and test set\r\n",
        "    X_train, X_test, y_train, y_test = train_test_split(X, y, test_size=0.30, random_state=0)\r\n",
        "    print ('Training Set: %d rows\\nTest Set: %d rows' % (X_train.shape[0], X_test.shape[0]))\r\n",
        "\r\n",
        "    return X_train, X_test, y_train, y_test\r\n",
        "    \r\n",
        "# Train\r\n",
        "def train_mode(X_train, y_train):\r\n",
        "\r\n",
        "    # Train the model\r\n",
        "    # Fit a linear regression model on the training set\r\n",
        "    model = LinearRegression().fit(X_train, y_train)\r\n",
        "    print (model)\r\n",
        "\r\n",
        "    return model\r\n",
        "\r\n",
        "# Evaluate\r\n",
        "def evaluate_model(model,X_test,y_test):\r\n",
        "\r\n",
        "    predictions = model.predict(X_test)\r\n",
        "    np.set_printoptions(suppress=True)\r\n",
        "    print('Predicted labels: ', np.round(predictions)[:10])\r\n",
        "    print('Actual labels   : ' ,y_test[:10])\r\n",
        "    \r\n",
        "    fig = plt.figure(figsize=(10,10))\r\n",
        "    plt.scatter(y_test, predictions)\r\n",
        "    plt.xlabel('Actual Labels')\r\n",
        "    plt.ylabel('Predicted Labels')\r\n",
        "    plt.title('Daily Bike Share Predictions')\r\n",
        "    # overlay the regression line\r\n",
        "    z = np.polyfit(y_test, predictions, 1)\r\n",
        "    p = np.poly1d(z)\r\n",
        "    plt.plot(y_test,p(y_test), color='magenta')\r\n",
        "\r\n",
        "    mlflow.log_figure(fig,\"evaluate.png\")\r\n",
        "\r\n",
        "    mse = mean_squared_error(y_test, predictions)\r\n",
        "    print(\"MSE:\", mse)\r\n",
        "\r\n",
        "    rmse = np.sqrt(mse)\r\n",
        "    print(\"RMSE:\", rmse)\r\n",
        "\r\n",
        "    r2 = r2_score(y_test, predictions)\r\n",
        "    print(\"R2:\", r2)\r\n",
        "\r\n",
        "    metric = {\r\n",
        "        \"MSE\": mse,\r\n",
        "        \"RMSE\":rmse,\r\n",
        "        \"R2\":r2\r\n",
        "    }\r\n",
        "    mlflow.log_metrics(metric)\r\n",
        "\r\n",
        "    return metric\r\n",
        "    \r\n",
        "def parse_args():\r\n",
        "   \r\n",
        "    # setup arg parser\r\n",
        "    parser = argparse.ArgumentParser()\r\n",
        "    parser.add_argument(\"--input_data\", type=str)\r\n",
        "\r\n",
        "    args = parser.parse_args()\r\n",
        "\r\n",
        "    # return args\r\n",
        "    return args\r\n",
        "\r\n",
        "\r\n",
        "# run script\r\n",
        "if __name__ == \"__main__\":\r\n",
        "    # parse args\r\n",
        "    args = parse_args()\r\n",
        "\r\n",
        "    # run main function\r\n",
        "    main(args)"
      ],
      "outputs": [],
      "execution_count": null,
      "metadata": {
        "jupyter": {
          "source_hidden": false,
          "outputs_hidden": false
        },
        "nteract": {
          "transient": {
            "deleting": false
          }
        }
      }
    },
    {
      "cell_type": "markdown",
      "source": [
        "## 以下で作業"
      ],
      "metadata": {
        "nteract": {
          "transient": {
            "deleting": false
          }
        }
      }
    },
    {
      "cell_type": "code",
      "source": [
        "%%writefile ./src/main.py\r\n",
        "\r\n",
        "\r\n",
        "import numpy as np\r\n",
        "import pandas as pd\r\n",
        "import matplotlib.pyplot as plt\r\n",
        "import mlflow\r\n",
        "import argparse # 追加\r\n",
        "import azureml.mlflow\r\n",
        "\r\n",
        "from sklearn.model_selection import train_test_split\r\n",
        "from sklearn.linear_model import LinearRegression\r\n",
        "from sklearn.linear_model import Lasso\r\n",
        "from sklearn.metrics import mean_squared_error, r2_score\r\n",
        "from sklearn.tree import DecisionTreeRegressor\r\n",
        "from sklearn.tree import export_text\r\n",
        "from sklearn.ensemble import RandomForestRegressor\r\n",
        "from sklearn.ensemble import GradientBoostingRegressor\r\n",
        "from sklearn.model_selection import GridSearchCV\r\n",
        "from sklearn.metrics import make_scorer, r2_score\r\n",
        "from sklearn.compose import ColumnTransformer\r\n",
        "from sklearn.pipeline import Pipeline\r\n",
        "from sklearn.impute import SimpleImputer\r\n",
        "from sklearn.preprocessing import StandardScaler, OneHotEncoder\r\n",
        "\r\n",
        "\r\n",
        "# enable auto logging\r\n",
        "mlflow.autolog()\r\n",
        "\r\n",
        "def main(args):\r\n",
        "\r\n",
        "    with mlflow.start_run() as run:\r\n",
        "        # file_path = './data/daily-bike-share.csv'\r\n",
        "        bike_data = pd.read_csv(args.input_data)\r\n",
        "        # bike_data.head()\r\n",
        "\r\n",
        "        # Try these hyperparameter values\r\n",
        "\r\n",
        "        params = {\r\n",
        "            'regressor__n_estimators': list(range(20, 101, 10)),\r\n",
        "            'regressor__learning_rate': list(np.arange(0.05, 0.20, 0.01))\r\n",
        "            }\r\n",
        "        mlflow.log_params(params)\r\n",
        "\r\n",
        "        X_train, X_test, y_train, y_test = data_prep(bike_data)\r\n",
        "        model = train_model(X_train, y_train,params)\r\n",
        "        metric ,fig  = evaluate_model(model,X_test,y_test)\r\n",
        "\r\n",
        "        mlflow.log_figure(fig,\"evaluate.png\")\r\n",
        "        mlflow.log_metrics(metric)\r\n",
        "\r\n",
        "        \r\n",
        "# Dataprep\r\n",
        "def data_prep(bike_data):\r\n",
        "\r\n",
        "    # Separate features and labels\r\n",
        "    X, y = bike_data[['season','mnth', 'holiday','weekday','workingday','weathersit','temp', 'atemp', 'hum', 'windspeed']].values, bike_data['rentals'].values\r\n",
        "    print('Features:',X[:10], '\\nLabels:', y[:10], sep='\\n')\r\n",
        "\r\n",
        "    # Split data 70%-30% into training set and test set\r\n",
        "    X_train, X_test, y_train, y_test = train_test_split(X, y, test_size=0.30, random_state=0)\r\n",
        "    print ('Training Set: %d rows\\nTest Set: %d rows' % (X_train.shape[0], X_test.shape[0]))\r\n",
        "\r\n",
        "    return X_train, X_test, y_train, y_test\r\n",
        "    \r\n",
        "# Train\r\n",
        "\r\n",
        "def train_model(X_train, y_train,params):\r\n",
        "\r\n",
        "    # Train the model\r\n",
        "\r\n",
        "\r\n",
        "    # Define preprocessing for numeric columns (scale them)\r\n",
        "    numeric_features = [6,7,8,9]\r\n",
        "    numeric_transformer = Pipeline(steps=[\r\n",
        "        ('scaler', StandardScaler())])\r\n",
        "\r\n",
        "    # Define preprocessing for categorical features (encode them)\r\n",
        "    categorical_features = [0,1,2,3,4,5]\r\n",
        "    categorical_transformer = Pipeline(steps=[\r\n",
        "        ('onehot', OneHotEncoder(handle_unknown='ignore'))])\r\n",
        "\r\n",
        "    # Combine preprocessing steps\r\n",
        "    preprocessor = ColumnTransformer(\r\n",
        "        transformers=[\r\n",
        "            ('num', numeric_transformer, numeric_features),\r\n",
        "            ('cat', categorical_transformer, categorical_features)])\r\n",
        "\r\n",
        "    # Create preprocessing and training pipeline\r\n",
        "    pipeline = Pipeline(steps=[('preprocessor', preprocessor),\r\n",
        "                            ('regressor', GradientBoostingRegressor())])\r\n",
        "\r\n",
        "    score = make_scorer(r2_score)\r\n",
        "    gridsearch = GridSearchCV(pipeline, params, scoring=score, cv=3, return_train_score=True)\r\n",
        "    gridsearch.fit(X_train, y_train)\r\n",
        "    model = gridsearch.best_estimator_\r\n",
        "\r\n",
        "    print(\"Best parameter combination:\", gridsearch.best_params_, \"\\n\")\r\n",
        "\r\n",
        "    print (model)\r\n",
        "\r\n",
        "    return model\r\n",
        "\r\n",
        "# Evaluate\r\n",
        "def evaluate_model(model,X_test,y_test):\r\n",
        "\r\n",
        "    predictions = model.predict(X_test)\r\n",
        "    np.set_printoptions(suppress=True)\r\n",
        "    print('Predicted labels: ', np.round(predictions)[:10])\r\n",
        "    print('Actual labels   : ' ,y_test[:10])\r\n",
        "    \r\n",
        "    fig = plt.figure(figsize=(10,10))\r\n",
        "    plt.scatter(y_test, predictions)\r\n",
        "    plt.xlabel('Actual Labels')\r\n",
        "    plt.ylabel('Predicted Labels')\r\n",
        "    plt.title('Daily Bike Share Predictions')\r\n",
        "    # overlay the regression line\r\n",
        "    z = np.polyfit(y_test, predictions, 1)\r\n",
        "    p = np.poly1d(z)\r\n",
        "    plt.plot(y_test,p(y_test), color='magenta')\r\n",
        "   \r\n",
        "    mse = mean_squared_error(y_test, predictions)\r\n",
        "    print(\"MSE:\", mse)\r\n",
        "\r\n",
        "    rmse = np.sqrt(mse)\r\n",
        "    print(\"RMSE:\", rmse)\r\n",
        "\r\n",
        "    r2 = r2_score(y_test, predictions)\r\n",
        "    print(\"R2:\", r2)\r\n",
        "\r\n",
        "    metric = {\r\n",
        "        \"MSE\": mse,\r\n",
        "        \"RMSE\":rmse,\r\n",
        "        \"R2\":r2\r\n",
        "    }\r\n",
        "    \r\n",
        "    return metric , fig\r\n",
        "    \r\n",
        "def parse_args():\r\n",
        "   \r\n",
        "    # setup arg parser\r\n",
        "    parser = argparse.ArgumentParser()\r\n",
        "    parser.add_argument(\"--input_data\", type=str)\r\n",
        "\r\n",
        "    args = parser.parse_args()\r\n",
        "\r\n",
        "    # return args\r\n",
        "    return args\r\n",
        "\r\n",
        "# run script\r\n",
        "if __name__ == \"__main__\":\r\n",
        "    # parse args\r\n",
        "    args = parse_args()\r\n",
        "\r\n",
        "    # run main function\r\n",
        "    main(args)\r\n"
      ],
      "outputs": [
        {
          "output_type": "stream",
          "name": "stdout",
          "text": "Overwriting ./src/main.py\n"
        }
      ],
      "execution_count": 28,
      "metadata": {
        "jupyter": {
          "source_hidden": false,
          "outputs_hidden": false
        },
        "nteract": {
          "transient": {
            "deleting": false
          }
        }
      }
    },
    {
      "cell_type": "code",
      "source": [],
      "outputs": [],
      "execution_count": null,
      "metadata": {
        "jupyter": {
          "source_hidden": false,
          "outputs_hidden": false
        },
        "nteract": {
          "transient": {
            "deleting": false
          }
        }
      }
    }
  ],
  "metadata": {
    "kernelspec": {
      "name": "python38-azureml",
      "language": "python",
      "display_name": "Python 3.8 - AzureML"
    },
    "language_info": {
      "name": "python",
      "version": "3.8.5",
      "mimetype": "text/x-python",
      "codemirror_mode": {
        "name": "ipython",
        "version": 3
      },
      "pygments_lexer": "ipython3",
      "nbconvert_exporter": "python",
      "file_extension": ".py"
    },
    "kernel_info": {
      "name": "python38-azureml"
    },
    "microsoft": {
      "host": {
        "AzureML": {
          "notebookHasBeenCompleted": true
        }
      }
    },
    "nteract": {
      "version": "nteract-front-end@1.0.0"
    }
  },
  "nbformat": 4,
  "nbformat_minor": 2
}