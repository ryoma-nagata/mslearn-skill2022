{
  "cells": [
    {
      "cell_type": "code",
      "source": [
        "from azure.ai.ml.entities import Data\r\n",
        "from azure.ai.ml.constants import AssetTypes\r\n",
        "\r\n",
        "my_data = Data(\r\n",
        "    path=file_path,\r\n",
        "    type=AssetTypes.URI_FILE,\r\n",
        "    description=\"bike share\",\r\n",
        "    name=\"daily-bike-share-sdkv2\"\r\n",
        ")\r\n",
        "my_data = ml_client.data.create_or_update(my_data)\r\n",
        "print(\r\n",
        "    f\"Dataset with name {my_data.name} was registered to workspace, the dataset version is {my_data.version}\"\r\n",
        ")"
      ],
      "outputs": [],
      "execution_count": null,
      "metadata": {}
    },
    {
      "cell_type": "markdown",
      "source": [],
      "metadata": {
        "nteract": {
          "transient": {
            "deleting": false
          }
        }
      }
    },
    {
      "cell_type": "code",
      "source": [
        "import azure.ai.ml \r\n",
        "from azure.ai.ml import MLClient\r\n",
        "from azure.identity import DefaultAzureCredential, InteractiveBrowserCredential\r\n",
        "from azureml.core import Workspace\r\n",
        "\r\n",
        "ws = Workspace.from_config()\r\n",
        "print('Workspace name: ' + ws.name, \r\n",
        "      'Azure region: ' + ws.location, \r\n",
        "      'Subscription id: ' + ws.subscription_id, \r\n",
        "      'Resource group: ' + ws.resource_group, sep='\\n')\r\n",
        "\r\n",
        "\r\n",
        "try:\r\n",
        "    credential = DefaultAzureCredential()\r\n",
        "    # Check if given credential can get token successfully.\r\n",
        "    credential.get_token(\"https://management.azure.com/.default\")\r\n",
        "except Exception as ex:\r\n",
        "    # Fall back to InteractiveBrowserCredential in case DefaultAzureCredential not work\r\n",
        "    # This will open a browser page for\r\n",
        "    credential = InteractiveBrowserCredential()\r\n",
        "\r\n",
        "try:\r\n",
        "    ml_client = MLClient.from_config(credential=credential)\r\n",
        "except Exception as ex:\r\n",
        "    # NOTE: Update following workspace information if not correctly configure before\r\n",
        "    client_config = {\r\n",
        "        \"subscription_id\": ws.subscription_id,\r\n",
        "        \"resource_group\": ws.resource_group,\r\n",
        "        \"workspace_name\": ws.name,\r\n",
        "    }\r\n",
        "\r\n",
        "    if client_config[\"subscription_id\"].startswith(\"<\"):\r\n",
        "        print(\r\n",
        "            \"please update your <SUBSCRIPTION_ID> <RESOURCE_GROUP> <AML_WORKSPACE_NAME> in notebook cell\"\r\n",
        "        )\r\n",
        "        raise ex\r\n",
        "    else:  # write and reload from config file\r\n",
        "        import json, os\r\n",
        "\r\n",
        "        config_path = \"../.azureml/config.json\"\r\n",
        "        os.makedirs(os.path.dirname(config_path), exist_ok=True)\r\n",
        "        with open(config_path, \"w\") as fo:\r\n",
        "            fo.write(json.dumps(client_config))\r\n",
        "        ml_client = MLClient.from_config(credential=credential, path=config_path)\r\n",
        "print(ml_client)"
      ],
      "outputs": [],
      "execution_count": null,
      "metadata": {
        "jupyter": {
          "source_hidden": false,
          "outputs_hidden": false
        },
        "nteract": {
          "transient": {
            "deleting": false
          }
        }
      }
    }
  ],
  "metadata": {
    "kernelspec": {
      "name": "python38-azureml",
      "language": "python",
      "display_name": "Python 3.8 - AzureML"
    },
    "language_info": {
      "name": "python",
      "version": "3.8.5",
      "mimetype": "text/x-python",
      "codemirror_mode": {
        "name": "ipython",
        "version": 3
      },
      "pygments_lexer": "ipython3",
      "nbconvert_exporter": "python",
      "file_extension": ".py"
    },
    "kernel_info": {
      "name": "python38-azureml"
    },
    "nteract": {
      "version": "nteract-front-end@1.0.0"
    }
  },
  "nbformat": 4,
  "nbformat_minor": 2
}