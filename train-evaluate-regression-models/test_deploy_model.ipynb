{
  "cells": [
    {
      "cell_type": "markdown",
      "source": [
        "## ワークスペース設定"
      ],
      "metadata": {
        "nteract": {
          "transient": {
            "deleting": false
          }
        }
      }
    },
    {
      "cell_type": "code",
      "source": [
        "import azure.ai.ml \r\n",
        "from azure.ai.ml import MLClient\r\n",
        "from azure.identity import DefaultAzureCredential, InteractiveBrowserCredential\r\n",
        "from azureml.core import Workspace\r\n",
        "\r\n",
        "ws = Workspace.from_config()\r\n",
        "print('Workspace name: ' + ws.name, \r\n",
        "      'Azure region: ' + ws.location, \r\n",
        "      'Subscription id: ' + ws.subscription_id, \r\n",
        "      'Resource group: ' + ws.resource_group, sep='\\n')\r\n",
        "\r\n",
        "\r\n",
        "try:\r\n",
        "    credential = DefaultAzureCredential()\r\n",
        "    # Check if given credential can get token successfully.\r\n",
        "    credential.get_token(\"https://management.azure.com/.default\")\r\n",
        "except Exception as ex:\r\n",
        "    # Fall back to InteractiveBrowserCredential in case DefaultAzureCredential not work\r\n",
        "    # This will open a browser page for\r\n",
        "    credential = InteractiveBrowserCredential()\r\n",
        "\r\n",
        "try:\r\n",
        "    ml_client = MLClient.from_config(credential=credential)\r\n",
        "except Exception as ex:\r\n",
        "    # NOTE: Update following workspace information if not correctly configure before\r\n",
        "    client_config = {\r\n",
        "        \"subscription_id\": ws.subscription_id,\r\n",
        "        \"resource_group\": ws.resource_group,\r\n",
        "        \"workspace_name\": ws.name,\r\n",
        "    }\r\n",
        "\r\n",
        "    if client_config[\"subscription_id\"].startswith(\"<\"):\r\n",
        "        print(\r\n",
        "            \"please update your <SUBSCRIPTION_ID> <RESOURCE_GROUP> <AML_WORKSPACE_NAME> in notebook cell\"\r\n",
        "        )\r\n",
        "        raise ex\r\n",
        "    else:  # write and reload from config file\r\n",
        "        import json, os\r\n",
        "\r\n",
        "        config_path = \"../.azureml/config.json\"\r\n",
        "        os.makedirs(os.path.dirname(config_path), exist_ok=True)\r\n",
        "        with open(config_path, \"w\") as fo:\r\n",
        "            fo.write(json.dumps(client_config))\r\n",
        "        ml_client = MLClient.from_config(credential=credential, path=config_path)\r\n",
        "print(ml_client)\r\n"
      ],
      "outputs": [
        {
          "output_type": "stream",
          "name": "stderr",
          "text": "Found the config file in: /mnt/batch/tasks/shared/LS_root/mounts/clusters/skilling-ml2/code/Users/localdev/github/mslearn-skill2022/.azureml/config.json\n"
        }
      ],
      "execution_count": 3,
      "metadata": {
        "gather": {
          "logged": 1656072699605
        }
      }
    },
    {
      "cell_type": "code",
      "source": [
        "import mlflow\r\n",
        "from mlflow.tracking.client import MlflowClient\r\n",
        "tracking_uri = ml_client.workspaces.get(name=ws.name).mlflow_tracking_uri\r\n",
        "mlflow.set_tracking_uri(tracking_uri)\r\n",
        "client = MlflowClient()"
      ],
      "outputs": [],
      "execution_count": 69,
      "metadata": {
        "jupyter": {
          "source_hidden": false,
          "outputs_hidden": false
        },
        "nteract": {
          "transient": {
            "deleting": false
          }
        },
        "gather": {
          "logged": 1656072497370
        }
      }
    },
    {
      "cell_type": "markdown",
      "source": [
        "## modelのローカルテスト"
      ],
      "metadata": {
        "nteract": {
          "transient": {
            "deleting": false
          }
        }
      }
    },
    {
      "cell_type": "code",
      "source": [
        "run_id=\"boring_okra_ys612y5fdv\"\r\n",
        "client.list_artifacts(run_id)\r\n",
        "client.download_artifacts(run_id, \"model\", \".\")\r\n",
        "\r\n",
        "import joblib\r\n",
        "loaded_model = joblib.load(\"model/model.pkl\")"
      ],
      "outputs": [
        {
          "output_type": "execute_result",
          "execution_count": 70,
          "data": {
            "text/plain": "'/mnt/batch/tasks/shared/LS_root/mounts/clusters/skilling-ml2/code/Users/localdev/github/mslearn-skill2022/train-evaluate-regression-models/model'"
          },
          "metadata": {}
        }
      ],
      "execution_count": 70,
      "metadata": {
        "jupyter": {
          "source_hidden": false,
          "outputs_hidden": false
        },
        "nteract": {
          "transient": {
            "deleting": false
          }
        },
        "gather": {
          "logged": 1656072535242
        }
      }
    },
    {
      "cell_type": "code",
      "source": [
        "import numpy as np\r\n",
        "# Create a numpy array containing a new observation (for example tomorrow's seasonal and weather forecast information)\r\n",
        "X_new = np.array([[1,1,0,3,1,1,0.226957,0.22927,0.436957,0.1869]]).astype('float64')\r\n",
        "print ('New sample: {}'.format(list(X_new[0])))\r\n",
        "\r\n",
        "# Use the model to predict tomorrow's rentals\r\n",
        "result = loaded_model.predict(X_new)\r\n",
        "print('Prediction: {:.0f} rentals'.format(np.round(result[0])))"
      ],
      "outputs": [
        {
          "output_type": "stream",
          "name": "stdout",
          "text": "New sample: [1.0, 1.0, 0.0, 3.0, 1.0, 1.0, 0.226957, 0.22927, 0.436957, 0.1869]\nPrediction: 129 rentals\n"
        }
      ],
      "execution_count": 20,
      "metadata": {
        "jupyter": {
          "source_hidden": false,
          "outputs_hidden": false
        },
        "nteract": {
          "transient": {
            "deleting": false
          }
        },
        "gather": {
          "logged": 1656073628513
        }
      }
    },
    {
      "cell_type": "code",
      "source": [
        "# An array of features based on five-day weather forecast\r\n",
        "X_new = np.array([[0,1,1,0,0,1,0.344167,0.363625,0.805833,0.160446],\r\n",
        "                  [0,1,0,1,0,1,0.363478,0.353739,0.696087,0.248539],\r\n",
        "                  [0,1,0,2,0,1,0.196364,0.189405,0.437273,0.248309],\r\n",
        "                  [0,1,0,3,0,1,0.2,0.212122,0.590435,0.160296],\r\n",
        "                  [0,1,0,4,0,1,0.226957,0.22927,0.436957,0.1869]])\r\n",
        "\r\n",
        "# Use the model to predict rentals\r\n",
        "results = loaded_model.predict(X_new)\r\n",
        "print('5-day rental predictions:')\r\n",
        "for prediction in results:\r\n",
        "    print(np.round(prediction))"
      ],
      "outputs": [
        {
          "output_type": "stream",
          "name": "stdout",
          "text": "New sample: [0.0, 1.0, 1.0, 0.0, 0.0, 1.0, 0.344167, 0.363625, 0.805833, 0.160446]\n5-day rental predictions:\n549.0\n928.0\n432.0\n397.0\n470.0\n"
        }
      ],
      "execution_count": 22,
      "metadata": {
        "jupyter": {
          "source_hidden": false,
          "outputs_hidden": false
        },
        "nteract": {
          "transient": {
            "deleting": false
          }
        },
        "gather": {
          "logged": 1656073643318
        }
      }
    },
    {
      "cell_type": "markdown",
      "source": [
        "## オンラインマネージドエンドポイントにデプロイ"
      ],
      "metadata": {
        "nteract": {
          "transient": {
            "deleting": false
          }
        }
      }
    },
    {
      "cell_type": "code",
      "source": [
        "\r\n",
        "\r\n"
      ],
      "outputs": [],
      "execution_count": 1,
      "metadata": {
        "jupyter": {
          "source_hidden": false,
          "outputs_hidden": false
        },
        "nteract": {
          "transient": {
            "deleting": false
          }
        },
        "gather": {
          "logged": 1656072657506
        }
      }
    },
    {
      "cell_type": "code",
      "source": [
        "import uuid\r\n",
        "\r\n",
        "# Creating a unique name for the endpoint\r\n",
        "online_endpoint_name = \"bike-share-endpoint-\" + str(uuid.uuid4())[:8]\r\n",
        "\r\n",
        "from azure.ai.ml.entities import (\r\n",
        "    ManagedOnlineEndpoint,\r\n",
        "    ManagedOnlineDeployment,\r\n",
        "    Model,\r\n",
        "    Environment,\r\n",
        ")\r\n",
        "\r\n",
        "# create an online endpoint\r\n",
        "endpoint = ManagedOnlineEndpoint(\r\n",
        "    name=online_endpoint_name,\r\n",
        "    description=\"this is an online endpoint\",\r\n",
        "    auth_mode=\"key\",\r\n",
        "    tags={\r\n",
        "        \"training_dataset\": \"sdkv2-daily-bike-share\",\r\n",
        "        \"model_type\": \"sklearn.GradientBoostingClassifier\",\r\n",
        "    },\r\n",
        ")\r\n",
        "\r\n",
        "endpoint = ml_client.begin_create_or_update(endpoint)\r\n",
        "\r\n",
        "print(f\"Endpint {endpoint.name} provisioning state: {endpoint.provisioning_state}\")"
      ],
      "outputs": [
        {
          "output_type": "stream",
          "name": "stdout",
          "text": "Endpint bike-share-endpoint-2206ae4b provisioning state: Succeeded\n"
        }
      ],
      "execution_count": 26,
      "metadata": {
        "jupyter": {
          "source_hidden": false,
          "outputs_hidden": false
        },
        "nteract": {
          "transient": {
            "deleting": false
          }
        },
        "gather": {
          "logged": 1656074164180
        }
      }
    },
    {
      "cell_type": "code",
      "source": [
        "endpoint = ml_client.online_endpoints.get(name=online_endpoint_name)\r\n",
        "\r\n",
        "print(\r\n",
        "    f'Endpint \"{endpoint.name}\" with provisioning state \"{endpoint.provisioning_state}\" is retrieved'\r\n",
        ")"
      ],
      "outputs": [
        {
          "output_type": "stream",
          "name": "stdout",
          "text": "Endpint \"bike-share-endpoint-2206ae4b\" with provisioning state \"Succeeded\" is retrieved\n"
        }
      ],
      "execution_count": 27,
      "metadata": {
        "jupyter": {
          "source_hidden": false,
          "outputs_hidden": false
        },
        "nteract": {
          "transient": {
            "deleting": false
          }
        },
        "gather": {
          "logged": 1656074165872
        }
      }
    },
    {
      "cell_type": "code",
      "source": [
        "registered_model_name = \"azureml_boring_okra_ys612y5fdv_output_mlflow_log_model\"\r\n"
      ],
      "outputs": [],
      "execution_count": null,
      "metadata": {
        "jupyter": {
          "source_hidden": false,
          "outputs_hidden": false
        },
        "nteract": {
          "transient": {
            "deleting": false
          }
        },
        "gather": {
          "logged": 1656072775470
        }
      }
    },
    {
      "cell_type": "code",
      "source": [
        "# picking the model to deploy. Here we use the latest version of our registered model\r\n",
        "model = ml_client.models.get(name=registered_model_name, version=\"1\")"
      ],
      "outputs": [],
      "execution_count": 9,
      "metadata": {
        "jupyter": {
          "source_hidden": false,
          "outputs_hidden": false
        },
        "nteract": {
          "transient": {
            "deleting": false
          }
        },
        "gather": {
          "logged": 1656072804055
        }
      }
    },
    {
      "cell_type": "code",
      "source": [
        "# create an online deployment.\r\n",
        "blue_deployment = ManagedOnlineDeployment(\r\n",
        "    name=\"blue\",\r\n",
        "    endpoint_name=online_endpoint_name,\r\n",
        "    model=model,\r\n",
        "    instance_type=\"Standard_F2s_v2\",\r\n",
        "    instance_count=1,\r\n",
        ")\r\n",
        "\r\n",
        "blue_deployment = ml_client.begin_create_or_update(blue_deployment)"
      ],
      "outputs": [
        {
          "output_type": "stream",
          "name": "stderr",
          "text": "Check: endpoint bike-share-endpoint-2206ae4b exists\nCreating/updating online deployment blue Done (5m 52s)\n"
        },
        {
          "output_type": "stream",
          "name": "stdout",
          "text": ".................................................................."
        }
      ],
      "execution_count": 28,
      "metadata": {
        "jupyter": {
          "source_hidden": false,
          "outputs_hidden": false
        },
        "nteract": {
          "transient": {
            "deleting": false
          }
        },
        "gather": {
          "logged": 1656076222356
        }
      }
    },
    {
      "cell_type": "markdown",
      "source": [
        "## Requestのテスト"
      ],
      "metadata": {
        "nteract": {
          "transient": {
            "deleting": false
          }
        }
      }
    },
    {
      "cell_type": "code",
      "source": [
        "deploy_dir = \"./deploy\"\r\n",
        "os.makedirs(deploy_dir, exist_ok=True)"
      ],
      "outputs": [],
      "execution_count": 13,
      "metadata": {
        "jupyter": {
          "source_hidden": false,
          "outputs_hidden": false
        },
        "nteract": {
          "transient": {
            "deleting": false
          }
        },
        "gather": {
          "logged": 1656073483472
        }
      }
    },
    {
      "cell_type": "code",
      "source": [
        "%%writefile {deploy_dir}/sample-request.json\r\n",
        "{\r\n",
        "  \"input_data\": [\r\n",
        "        [1.0, 1.0, 0.0, 3.0, 1.0, 1.0, 0.226957, 0.22927, 0.436957, 0.1869],\r\n",
        "        [0,1,1,0,0,1,0.344167,0.363625,0.805833,0.160446],\r\n",
        "        [0,1,0,1,0,1,0.363478,0.353739,0.696087,0.248539],\r\n",
        "        [0,1,0,2,0,1,0.196364,0.189405,0.437273,0.248309],\r\n",
        "        [0,1,0,3,0,1,0.2,0.212122,0.590435,0.160296],\r\n",
        "        [0,1,0,4,0,1,0.226957,0.22927,0.436957,0.1869]\r\n",
        "    ]\r\n",
        "}"
      ],
      "outputs": [
        {
          "output_type": "stream",
          "name": "stdout",
          "text": "Overwriting ./deploy/sample-request.json\n"
        }
      ],
      "execution_count": 23,
      "metadata": {
        "jupyter": {
          "source_hidden": false,
          "outputs_hidden": false
        },
        "nteract": {
          "transient": {
            "deleting": false
          }
        }
      }
    },
    {
      "cell_type": "code",
      "source": [
        "ml_client.online_endpoints.invoke(\r\n",
        "    endpoint_name=online_endpoint_name,\r\n",
        "    request_file=\"./deploy/sample-request.json\",\r\n",
        "    deployment_name=\"blue\",\r\n",
        ")"
      ],
      "outputs": [
        {
          "output_type": "execute_result",
          "execution_count": 24,
          "data": {
            "text/plain": "'[129.210589270042, 548.8507783701633, 927.5562696858865, 431.51742301778836, 396.6375139680033, 470.3986407767837]'"
          },
          "metadata": {}
        }
      ],
      "execution_count": 24,
      "metadata": {
        "jupyter": {
          "source_hidden": false,
          "outputs_hidden": false
        },
        "nteract": {
          "transient": {
            "deleting": false
          }
        },
        "gather": {
          "logged": 1656073696265
        }
      }
    },
    {
      "cell_type": "code",
      "source": [],
      "outputs": [],
      "execution_count": null,
      "metadata": {
        "jupyter": {
          "source_hidden": false,
          "outputs_hidden": false
        },
        "nteract": {
          "transient": {
            "deleting": false
          }
        }
      }
    }
  ],
  "metadata": {
    "kernelspec": {
      "name": "python38-azureml",
      "language": "python",
      "display_name": "Python 3.8 - AzureML"
    },
    "language_info": {
      "name": "python",
      "version": "3.8.5",
      "mimetype": "text/x-python",
      "codemirror_mode": {
        "name": "ipython",
        "version": 3
      },
      "pygments_lexer": "ipython3",
      "nbconvert_exporter": "python",
      "file_extension": ".py"
    },
    "kernel_info": {
      "name": "python38-azureml"
    },
    "microsoft": {
      "host": {
        "AzureML": {
          "notebookHasBeenCompleted": true
        }
      }
    },
    "nteract": {
      "version": "nteract-front-end@1.0.0"
    }
  },
  "nbformat": 4,
  "nbformat_minor": 2
}