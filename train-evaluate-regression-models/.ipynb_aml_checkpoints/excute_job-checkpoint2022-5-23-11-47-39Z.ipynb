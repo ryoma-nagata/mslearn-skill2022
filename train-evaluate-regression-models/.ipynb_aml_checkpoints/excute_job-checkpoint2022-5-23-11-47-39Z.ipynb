{
  "cells": [
    {
      "cell_type": "markdown",
      "source": [
        "## ワークスペース設定"
      ],
      "metadata": {
        "nteract": {
          "transient": {
            "deleting": false
          }
        }
      }
    },
    {
      "cell_type": "code",
      "source": [
        "import azure.ai.ml \r\n",
        "from azure.ai.ml import MLClient\r\n",
        "from azure.identity import DefaultAzureCredential, InteractiveBrowserCredential\r\n",
        "from azureml.core import Workspace\r\n",
        "\r\n",
        "ws = Workspace.from_config()\r\n",
        "print('Workspace name: ' + ws.name, \r\n",
        "      'Azure region: ' + ws.location, \r\n",
        "      'Subscription id: ' + ws.subscription_id, \r\n",
        "      'Resource group: ' + ws.resource_group, sep='\\n')\r\n",
        "\r\n",
        "\r\n",
        "try:\r\n",
        "    credential = DefaultAzureCredential()\r\n",
        "    # Check if given credential can get token successfully.\r\n",
        "    credential.get_token(\"https://management.azure.com/.default\")\r\n",
        "except Exception as ex:\r\n",
        "    # Fall back to InteractiveBrowserCredential in case DefaultAzureCredential not work\r\n",
        "    # This will open a browser page for\r\n",
        "    credential = InteractiveBrowserCredential()\r\n",
        "\r\n",
        "try:\r\n",
        "    ml_client = MLClient.from_config(credential=credential)\r\n",
        "except Exception as ex:\r\n",
        "    # NOTE: Update following workspace information if not correctly configure before\r\n",
        "    client_config = {\r\n",
        "        \"subscription_id\": ws.subscription_id,\r\n",
        "        \"resource_group\": ws.resource_group,\r\n",
        "        \"workspace_name\": ws.name,\r\n",
        "    }\r\n",
        "\r\n",
        "    if client_config[\"subscription_id\"].startswith(\"<\"):\r\n",
        "        print(\r\n",
        "            \"please update your <SUBSCRIPTION_ID> <RESOURCE_GROUP> <AML_WORKSPACE_NAME> in notebook cell\"\r\n",
        "        )\r\n",
        "        raise ex\r\n",
        "    else:  # write and reload from config file\r\n",
        "        import json, os\r\n",
        "\r\n",
        "        config_path = \"../.azureml/config.json\"\r\n",
        "        os.makedirs(os.path.dirname(config_path), exist_ok=True)\r\n",
        "        with open(config_path, \"w\") as fo:\r\n",
        "            fo.write(json.dumps(client_config))\r\n",
        "        ml_client = MLClient.from_config(credential=credential, path=config_path)\r\n",
        "print(ml_client)"
      ],
      "outputs": [
        {
          "output_type": "stream",
          "name": "stderr",
          "text": "Found the config file in: /mnt/batch/tasks/shared/LS_root/mounts/clusters/skilling-ml2/code/Users/localdev/mslearn/train-evaluate-regression-models/.azureml/config.json\n"
        }
      ],
      "execution_count": 22,
      "metadata": {
        "jupyter": {
          "source_hidden": false,
          "outputs_hidden": false
        },
        "nteract": {
          "transient": {
            "deleting": false
          }
        },
        "gather": {
          "logged": 1655965851482
        }
      }
    },
    {
      "cell_type": "markdown",
      "source": [
        "## 実験ジョブの実行"
      ],
      "metadata": {
        "nteract": {
          "transient": {
            "deleting": false
          }
        }
      }
    },
    {
      "cell_type": "markdown",
      "source": [
        "### 入力データの呼び出し"
      ],
      "metadata": {
        "nteract": {
          "transient": {
            "deleting": false
          }
        }
      }
    },
    {
      "cell_type": "code",
      "source": [
        "\r\n",
        "registered_data_asset = ml_client.data._get_latest_version(name=\"daily-bike-share\")\r\n"
      ],
      "outputs": [],
      "execution_count": 23,
      "metadata": {
        "jupyter": {
          "source_hidden": false,
          "outputs_hidden": false
        },
        "nteract": {
          "transient": {
            "deleting": false
          }
        },
        "gather": {
          "logged": 1655965855764
        }
      }
    },
    {
      "cell_type": "markdown",
      "source": [
        "### 実行"
      ],
      "metadata": {
        "nteract": {
          "transient": {
            "deleting": false
          }
        }
      }
    },
    {
      "cell_type": "code",
      "source": [
        "import time \r\n",
        "\r\n",
        "from azure.ai.ml import command, Input, Output\r\n",
        "from azure.ai.ml.entities import Data\r\n",
        "from azure.ai.ml.constants import AssetTypes\r\n",
        "\r\n",
        "\r\n",
        "experiment_name = \"mslean-train-evaluate-regression-models\" \r\n",
        "run_name = f'job_sklearn_run_{int(time.time())}' # 実行ごとにかぶらないようにしつつ好きな名前を指定\r\n",
        "\r\n",
        "my_job_inputs = {\r\n",
        "    \"input_data\": Input(type=AssetTypes.URI_FILE, path=registered_data_asset.id)\r\n",
        "}\r\n",
        "\r\n",
        "job = command(\r\n",
        "    code=\"./src\",\r\n",
        "    command=\"python main.py --input_data ${{inputs.input_data}}\",\r\n",
        "    inputs=my_job_inputs,\r\n",
        "    environment=\"AzureML-sklearn-0.24-ubuntu18.04-py37-cpu:9\",\r\n",
        "    compute=\"cpu-cluster\",\r\n",
        "    experiment_name=experiment_name,\r\n",
        "    display_name=run_name,\r\n",
        ")\r\n",
        "\r\n",
        "# submit the command\r\n",
        "returned_job = ml_client.create_or_update(job)\r\n",
        "# get a URL for the status of the job\r\n",
        "returned_job.services[\"Studio\"].endpoint"
      ],
      "outputs": [
        {
          "output_type": "stream",
          "name": "stderr",
          "text": "\u001b[32mUploading src (0.01 MBs): 100%|██████████| 5610/5610 [00:00<00:00, 47124.46it/s]\n\u001b[39m\n\n"
        },
        {
          "output_type": "execute_result",
          "execution_count": 25,
          "data": {
            "text/plain": "'https://ml.azure.com/runs/joyful_longan_flswj1x1sp?wsid=/subscriptions/aa7533c4-42d3-4f74-9b7e-9bec680a7c22/resourcegroups/vse-rg-sand/workspaces/skilling-ml-sand&tid=8942ec59-80b8-4a4c-b002-32b6193ca367'"
          },
          "metadata": {}
        }
      ],
      "execution_count": 25,
      "metadata": {
        "jupyter": {
          "source_hidden": false,
          "outputs_hidden": false
        },
        "nteract": {
          "transient": {
            "deleting": false
          }
        },
        "gather": {
          "logged": 1655966936486
        }
      }
    },
    {
      "cell_type": "code",
      "source": [
        "\r\n",
        "registered_data_asset_v1 = ml_client.data._get_latest_version(name=\"daily-bike-share-sdkv1_1\")\r\n"
      ],
      "outputs": [],
      "execution_count": 28,
      "metadata": {
        "jupyter": {
          "source_hidden": false,
          "outputs_hidden": false
        },
        "nteract": {
          "transient": {
            "deleting": false
          }
        },
        "gather": {
          "logged": 1655966975778
        }
      }
    },
    {
      "cell_type": "code",
      "source": [
        "registered_data_asset_v1"
      ],
      "outputs": [
        {
          "output_type": "execute_result",
          "execution_count": 29,
          "data": {
            "text/plain": "Data({'type': 'mltable', 'is_anonymous': False, 'auto_increment_version': False, 'name': 'daily-bike-share-sdkv1_1', 'description': None, 'tags': {}, 'properties': {}, 'id': '/subscriptions/aa7533c4-42d3-4f74-9b7e-9bec680a7c22/resourceGroups/vse-rg-sand/providers/Microsoft.MachineLearningServices/workspaces/skilling-ml-sand/data/daily-bike-share-sdkv1_1/versions/1', 'base_path': './', 'creation_context': <azure.ai.ml._restclient.v2022_05_01.models._models_py3.SystemData object at 0x7f530558d280>, 'serialize': <msrest.serialization.Serializer object at 0x7f53057ebfd0>, 'version': '1', 'latest_version': None, 'path': 'azureml://subscriptions/aa7533c4-42d3-4f74-9b7e-9bec680a7c22/resourcegroups/vse-rg-sand/workspaces/skilling-ml-sand/datastores/workspaceblobstore/paths/datasets/daily-bike-share-sdkv2/03d14e3c-c254-4a0a-a01a-98c2db3223bd/', 'referenced_uris': None})"
          },
          "metadata": {}
        }
      ],
      "execution_count": 29,
      "metadata": {
        "jupyter": {
          "source_hidden": false,
          "outputs_hidden": false
        },
        "nteract": {
          "transient": {
            "deleting": false
          }
        },
        "gather": {
          "logged": 1655966977602
        }
      }
    },
    {
      "cell_type": "code",
      "source": [
        "import time \r\n",
        "\r\n",
        "from azure.ai.ml import command, Input, Output\r\n",
        "from azure.ai.ml.entities import Data\r\n",
        "from azure.ai.ml.constants import AssetTypes\r\n",
        "\r\n",
        "\r\n",
        "experiment_name = \"mslean-train-evaluate-regression-models\" \r\n",
        "run_name = f'assetv1_job_run_{int(time.time())}' # 実行ごとにかぶらないようにしつつ好きな名前を指定\r\n",
        "\r\n",
        "my_job_inputs = {\r\n",
        "    \"input_data\": Input(\r\n",
        "        type=AssetTypes.MLTABLE,  \r\n",
        "        path=registered_data_asset_v1.id,\r\n",
        "        mode=\"eval_mount\")\r\n",
        "    \r\n",
        "}\r\n",
        "\r\n",
        "job = command(\r\n",
        "    code=\"./src\",\r\n",
        "    command=\"python main.py --input_data ${{inputs.input_data}}\",\r\n",
        "    inputs=my_job_inputs,\r\n",
        "    environment=\"AzureML-sklearn-0.24-ubuntu18.04-py37-cpu:9\",\r\n",
        "    compute=\"cpu-cluster\",\r\n",
        "    experiment_name=experiment_name,\r\n",
        "    display_name=run_name,\r\n",
        ")\r\n",
        "\r\n",
        "# submit the command\r\n",
        "returned_job = ml_client.create_or_update(job)\r\n",
        "# get a URL for the status of the job\r\n",
        "returned_job.services[\"Studio\"].endpoint"
      ],
      "outputs": [
        {
          "output_type": "stream",
          "name": "stderr",
          "text": "\r\u001b[32mUploading src (0.01 MBs):   0%|          | 0/5638 [00:00<?, ?it/s]\r\u001b[32mUploading src (0.01 MBs):  57%|█████▋    | 3222/5638 [00:00<00:00, 28209.27it/s]\r\u001b[32mUploading src (0.01 MBs): 100%|██████████| 5638/5638 [00:00<00:00, 44336.65it/s]\n\u001b[39m\n\n"
        },
        {
          "output_type": "execute_result",
          "execution_count": 31,
          "data": {
            "text/plain": "'https://ml.azure.com/runs/serene_wing_1ft96cylq0?wsid=/subscriptions/aa7533c4-42d3-4f74-9b7e-9bec680a7c22/resourcegroups/vse-rg-sand/workspaces/skilling-ml-sand&tid=8942ec59-80b8-4a4c-b002-32b6193ca367'"
          },
          "metadata": {}
        }
      ],
      "execution_count": 31,
      "metadata": {
        "jupyter": {
          "source_hidden": false,
          "outputs_hidden": false
        },
        "nteract": {
          "transient": {
            "deleting": false
          }
        },
        "gather": {
          "logged": 1655967028379
        }
      }
    },
    {
      "cell_type": "code",
      "source": [],
      "outputs": [],
      "execution_count": null,
      "metadata": {
        "jupyter": {
          "source_hidden": false,
          "outputs_hidden": false
        },
        "nteract": {
          "transient": {
            "deleting": false
          }
        }
      }
    }
  ],
  "metadata": {
    "kernelspec": {
      "name": "python38-azureml",
      "language": "python",
      "display_name": "Python 3.8 - AzureML"
    },
    "language_info": {
      "name": "python",
      "version": "3.8.5",
      "mimetype": "text/x-python",
      "codemirror_mode": {
        "name": "ipython",
        "version": 3
      },
      "pygments_lexer": "ipython3",
      "nbconvert_exporter": "python",
      "file_extension": ".py"
    },
    "kernel_info": {
      "name": "python38-azureml"
    },
    "microsoft": {
      "host": {
        "AzureML": {
          "notebookHasBeenCompleted": true
        }
      }
    },
    "nteract": {
      "version": "nteract-front-end@1.0.0"
    }
  },
  "nbformat": 4,
  "nbformat_minor": 2
}